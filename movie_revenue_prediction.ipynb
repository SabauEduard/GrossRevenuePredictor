{
 "cells": [
  {
   "metadata": {},
   "cell_type": "markdown",
   "source": [
    "# Predictor pentru venitul si profitul filmelor\n",
    "\n",
    "## Introducere\n",
    "\n",
    "### Setul de date este preluat de pe Kaggle si este disponibil la: [The Movies Dataset](https://www.kaggle.com/datasets/rounakbanik/the-movies-dataset)\n",
    "\n",
    "### Prezentare set de date\n",
    "Acest set de date conține informații detaliate despre 45.000 de filme lansate până în iulie 2017, inclusiv date despre actori, regizori, bugete, încasări, postere, cuvinte-cheie din descrierea filmelor, limbi vorbite și case de producție. Informațiile provin din baza de date TMDB și includ și numărul de voturi și scorurile acordate de utilizatori.\n",
    "\n",
    "Folosirea acestui set de date poate fi utilă pentru a analiza tendințele din industria cinematografică, pentru a prezice succesul financiar al filmelor și pentru a înțelege mai bine preferințele publicului.\n",
    "\n",
    "### Obiectivele proiectului\n",
    "1. Familiarizarea cu PySpark și manipularea datelor folosind DataFrame API.\n",
    "2. Preprocesarea datelor pentru a extrage informații relevante despre filme, actori și regizori.\n",
    "3. Realizarea de agregări și analize pentru a obține statistici despre filme, cum ar fi numărul de filme pe an, bugetul mediu și venitul mediu.\n",
    "4. Construirea unui model de regresie liniară pentru a prezice venitul și profitul filmelor pe baza caracteristicilor disponibile.\n",
    "5. Vizualizarea rezultatelor și interpretarea acestora pentru a trasa concluzii despre succesul financiar al filmelor.\n",
    "6. Explorarea relațiilor dintre diferite caracteristici ale filmelor și succesul lor financiar, cum ar fi genurile, regizorii și actorii implicați.\n",
    "\n"
   ],
   "id": "bd370cdbda86b16d"
  },
  {
   "metadata": {
    "ExecuteTime": {
     "end_time": "2025-06-14T21:21:37.777133Z",
     "start_time": "2025-06-14T21:21:37.771377Z"
    }
   },
   "cell_type": "code",
   "source": [
    "from pyspark.sql import SparkSession\n",
    "from pyspark.sql.functions import col, udf, year, to_date\n",
    "from pyspark.sql.types import ArrayType, StringType, LongType, StructType, StructField\n",
    "from pyspark.sql import functions as F\n",
    "from pyspark.ml.feature import StringIndexer, OneHotEncoder, VectorAssembler\n",
    "from pyspark.ml.evaluation import RegressionEvaluator\n",
    "import ast\n",
    "from pyspark.ml.regression import LinearRegression, RandomForestRegressor\n",
    "from pyspark.ml import Pipeline\n",
    "from pyspark.ml.tuning import ParamGridBuilder, CrossValidator"
   ],
   "id": "46d21e0c",
   "outputs": [],
   "execution_count": 256
  },
  {
   "metadata": {
    "ExecuteTime": {
     "end_time": "2025-06-14T21:21:38.232496Z",
     "start_time": "2025-06-14T21:21:37.821872Z"
    }
   },
   "cell_type": "code",
   "source": [
    "spark = SparkSession.builder.appName(\"MovieRevenuePrediction\").getOrCreate()\n",
    "\n",
    "# Încărcarea datelor\n",
    "movies = spark.read.csv('movie_dataset/movies_metadata.csv', header=True, inferSchema=True)\n",
    "credits = spark.read.csv('movie_dataset/credits.csv', header=True, inferSchema=True)\n",
    "keywords = spark.read.csv('movie_dataset/keywords.csv', header=True, inferSchema=True)"
   ],
   "id": "c2953e48e8dec650",
   "outputs": [],
   "execution_count": 257
  },
  {
   "metadata": {},
   "cell_type": "markdown",
   "source": [
    "## Implementarea de script-uri Spark\n",
    "\n",
    "### Preprocesarea datelor\n",
    "La acest pas am utilizat și UDF-uri (User Defined Functions) pentru a transforma datele din coloanele care conțin liste de dicționare în formate mai ușor de utilizat. De asemenea, am folosit funcții de Spark SQL pentru a efectua diverse agregări și analize.\n",
    "\n",
    "#### Preprocesarea DataFrame-ului movies_metadata\n",
    "Pentru a pregăti datele pentru analiza ulterioară, vom efectua următoarele operațiuni:\n",
    "1. **Filtrarea intrărilor**: Vom elimina filmele care sunt marcate ca \"adult\" sau \"video\".\n",
    "2. **Eliminarea coloanelor inutile**: Vom elimina coloanele care nu sunt relevante pentru analiza noastră, cum ar fi `homepage`, `original_language`, `overview`, `poster_path`, `spoken_languages`, `status`, `tagline`, `video`, `adult`, `imdb_id` și `original_language`.\n",
    "3. **Transformarea coloanei `belongs_to_collection`**: Vom transforma această coloană astfel încât să conțină 1 dacă filmul aparține unei colecții și 0 în caz contrar.\n",
    "4. **Extracția genurilor**: Vom extrage doar numele genurilor din coloana `genres`, care conține o listă de dicționare cu `id` și `name`.\n",
    "5. **Extracția companiilor de producție**: Vom extrage doar numele companiilor de producție din coloana `production_companies`, care conține o listă de dicționare cu `name` și `id`.\n",
    "6. **Extracția țărilor de producție**: Vom extrage doar numele țărilor de producție din coloana `production_countries`, care conține o listă de dicționare cu `iso_3166_1` și `name`.\n",
    "7. **Conversia bugetului și veniturilor**: Vom converti coloanele `budget` și `revenue` la tipul `LongType`.\n",
    "8. **Eliminarea rândurilor cu buget sau venit 0**: Vom elimina rândurile în care bugetul sau venitul este 0, deoarece acestea nu sunt relevante pentru analiza noastră.\n",
    "9. **Transformarea datei de lansare**: Vom transforma coloana `release_date` astfel încât să conțină doar anul lansării filmului.\n",
    "10. **Adăugarea unei coloane de profit**: Vom adăuga o coloană `profit` care va conține diferența dintre venit și buget."
   ],
   "id": "3939d0dc19cc9c4c"
  },
  {
   "metadata": {
    "ExecuteTime": {
     "end_time": "2025-06-14T21:21:38.326646Z",
     "start_time": "2025-06-14T21:21:38.286393Z"
    }
   },
   "cell_type": "code",
   "source": [
    "# Preprocesarea DataFrame-ului movies\n",
    "\n",
    "# Filtrarea intrărilor pentru a elimina filmele care sunt marcate ca \"adult\" sau \"video\"\n",
    "movies = movies.filter((col(\"adult\") == \"False\") & (col(\"video\") == \"False\"))\n",
    "\n",
    "# Eliminarea coloanelor inutile\n",
    "movies = movies.drop(\"homepage\", \"original_language\", \"original_title\", \"overview\", \"poster_path\", \"spoken_languages\", \"status\", 'tagline', 'video', 'adult', 'imdb_id', 'original_language')\n",
    "\n",
    "# Transformarea coloanei belongs_to_collection pentru a conține 1 dacă filmul aparține unei colecții și 0 în caz contrar\n",
    "def belongs_to_collection(value):\n",
    "    if value is None or value == '[]':\n",
    "        return 0\n",
    "    else:\n",
    "        return 1\n",
    "belongs_to_collection_udf = udf(belongs_to_collection, StringType())\n",
    "movies = movies.withColumn(\"belongs_to_collection\", belongs_to_collection_udf(col(\"belongs_to_collection\")))\n",
    "\n",
    "# Extractia genurilor care arată astfel: [{'id': 28, 'name': 'Action'}, {'id': 12, 'name': 'Adventure'}]\n",
    "def extract_genres(genres):\n",
    "    try:\n",
    "        genres = ast.literal_eval(genres)\n",
    "        return [g['name'] for g in genres]\n",
    "    except:\n",
    "        return []\n",
    "extract_genres_udf = udf(extract_genres, ArrayType(StringType()))\n",
    "movies = movies.withColumn(\"genres\", extract_genres_udf(col(\"genres\")))\n",
    "\n",
    "# Extragtia numelui companiilor de producție care arată astfel: [{'name': 'Warner Bros.', 'id': 6194}, {'name': 'Village Roadshow Pictures', 'id': 25}]\n",
    "def extract_production_companies(companies):\n",
    "    try:\n",
    "        companies = ast.literal_eval(companies)\n",
    "        return [c['name'] for c in companies]\n",
    "    except:\n",
    "        return []\n",
    "extract_production_companies_udf = udf(extract_production_companies, ArrayType(StringType()))\n",
    "movies = movies.withColumn(\"production_companies\", extract_production_companies_udf(col(\"production_companies\")))\n",
    "\n",
    "# Extractia numelui țărilor de producție care arată astfel: [{'iso_3166_1': 'US', 'name': 'United States of America'}, {'iso_3166_1': 'GB', 'name': 'United Kingdom'}]\n",
    "def extract_production_countries(countries):\n",
    "    try:\n",
    "        countries = ast.literal_eval(countries)\n",
    "        return [c['name'] for c in countries]\n",
    "    except:\n",
    "        return []\n",
    "extract_production_countries_udf = udf(extract_production_countries, ArrayType(StringType()))\n",
    "movies = movies.withColumn(\"production_countries\", extract_production_countries_udf(col(\"production_countries\")))\n",
    "\n",
    "# Convertirea coloanelor budget și revenue la tipul LongType\n",
    "movies = movies.withColumn(\"budget\", col(\"budget\").cast(LongType()))\n",
    "movies = movies.withColumn(\"revenue\", col(\"revenue\").cast(LongType()))\n",
    "\n",
    "# Eliminarea rândurilor cu buget sau venit 0\n",
    "movies = movies.filter((col(\"budget\") > 0) & (col(\"revenue\") > 0))\n",
    "\n",
    "# Transformarea datei de lansare\n",
    "movies = movies.withColumn(\"release_date\", to_date(col(\"release_date\"), \"yyyy-MM-dd\"))\n",
    "movies = movies.withColumn(\"release_year\", year(col(\"release_date\")))\n",
    "movies = movies.drop(\"release_date\")\n",
    "\n",
    "# Adăugarea unei coloane de profit\n",
    "movies = movies.withColumn(\"profit\", col(\"revenue\") - col(\"budget\"))"
   ],
   "id": "4190f2e92a066cef",
   "outputs": [],
   "execution_count": 258
  },
  {
   "metadata": {},
   "cell_type": "markdown",
   "source": [
    "#### Preprocesarea DataFrame-ului credits\n",
    "Pentru a pregăti datele din DataFrame-ul `credits`, vom efectua următoarele operațiuni:\n",
    "1. **Extracția informațiilor despre actori**: Vom extrage doar numele personajelor și numele actorilor din coloana `cast`, care conține o listă de dicționare cu `cast_id`, `character`, `credit_id`, `gender`, `id`, `name`, `order` și `profile_path`.\n",
    "2. **Extracția numelui regizorului**: Vom extrage doar numele regizorului din coloana `crew`, care conține o listă de dicționare cu `credit_id`, `department`, `gender`, `id`, `job`, `name` și `profile_path`. Vom căuta în această listă pentru a găsi regizorul (job-ul \"Director\" sau \"Writer\").\n",
    "3. **Îmbinarea cu DataFrame-ul `movies`**: Vom adăuga coloanele `director` și `cast_info` la DataFrame-ul `movies`, astfel încât să avem informații complete despre fiecare film.\n",
    "4. **Filtrarea rândurilor**: Vom elimina rândurile în care nu există informații despre regizor sau despre actori."
   ],
   "id": "dce7a3573e616322"
  },
  {
   "metadata": {
    "ExecuteTime": {
     "end_time": "2025-06-14T21:21:38.390593Z",
     "start_time": "2025-06-14T21:21:38.370951Z"
    }
   },
   "cell_type": "code",
   "source": [
    "# Preprocesarea DataFrame-ului credits\n",
    "\n",
    "# Extracția informațiilor despre actori și personaje care arată așa: [{'cast_id': 25, 'character': 'Lt. Vincent Hanna', 'credit_id': '52fe4292c3a36847f80291f5', 'gender': 2, 'id': 1158, 'name': 'Al Pacino', 'order': 0, 'profile_path': '/ks7Ba8x9fJUlP9decBr6Dh5mThX.jpg'}, {'cast_id': 26, 'character': 'Neil McCauley', 'credit_id': '52fe4292c3a36847f80291f9', 'gender': 2, 'id': 380, 'name': 'Robert De Niro', 'order': 1, 'profile_path': '/lvTSwUcvJRLAJ2FB5qFaukel516.jpg'}]\n",
    "cast_schema = ArrayType(\n",
    "    StructType([\n",
    "        StructField(\"character\", StringType(), True),\n",
    "        StructField(\"actor_name\", StringType(), True)\n",
    "    ])\n",
    ")\n",
    "\n",
    "def extract_cast(cast_str):\n",
    "    try:\n",
    "        cast_list = ast.literal_eval(cast_str)\n",
    "        return [(c.get('character', ''), c.get('name', '')) for c in cast_list]\n",
    "    except:\n",
    "        return []\n",
    "\n",
    "extract_cast_udf = udf(extract_cast, cast_schema)\n",
    "credits = credits.withColumn(\"cast_info\", extract_cast_udf(col(\"cast\")))\n",
    "credits = credits.drop(\"cast\")\n",
    "\n",
    "# Extracția numelui directorului din echipaj care arată așa: [{'credit_id': '52fe44b79251416c7503e7fb', 'department': 'Editing', 'gender': 2, 'id': 4057, 'job': 'Editor', 'name': 'Adam Weiss', 'profile_path': None}, {'credit_id': '52fe44b79251416c7503e82f', 'department': 'Writing', 'gender': 2, 'id': 14639, 'job': 'Screenplay', 'name': 'Mel Brooks', 'profile_path': '/ndFo3LOYNCUghQTK833N1Wtuynr.jpg'}]\n",
    "def extract_director(crew_str):\n",
    "    try:\n",
    "        crew_list = ast.literal_eval(crew_str)\n",
    "        for member in crew_list:\n",
    "            if member.get('job', '') == 'Director' or member.get('job', '') == 'Writer':\n",
    "                return member.get('name', '')\n",
    "        return None\n",
    "    except:\n",
    "        return None\n",
    "\n",
    "extract_director_udf = udf(extract_director, StringType())\n",
    "credits = credits.withColumn(\"director\", extract_director_udf(col(\"crew\")))\n",
    "credits = credits.drop(\"crew\")\n",
    "credits = credits.filter(col(\"director\").isNotNull() & col('cast_info').isNotNull())\n",
    "\n",
    "# Îmbinarea cu DataFrame-ul movies\n",
    "movies = movies.join(credits.select(\"id\", \"director\", \"cast_info\"), on=\"id\", how=\"left\")"
   ],
   "id": "59e08dc3b0266b",
   "outputs": [],
   "execution_count": 259
  },
  {
   "metadata": {},
   "cell_type": "markdown",
   "source": [
    "#### Preprocesarea DataFrame-ului keywords\n",
    "Pentru a pregăti datele din DataFrame-ul `keywords`, vom efectua următoarele operațiuni:\n",
    "1. **Extracția cuvintelor-cheie**: Vom extrage doar numele cuvintelor-cheie din coloana `keywords`, care conține o listă de dicționare cu `id` și `name`.\n",
    "2. **Îmbinarea cu DataFrame-ul `movies`**: Vom adăuga coloana `keywords` la DataFrame-ul `movies`, astfel încât să avem informații complete despre fiecare film."
   ],
   "id": "7b31ced57a377571"
  },
  {
   "metadata": {
    "ExecuteTime": {
     "end_time": "2025-06-14T21:21:38.448873Z",
     "start_time": "2025-06-14T21:21:38.439117Z"
    }
   },
   "cell_type": "code",
   "source": [
    "# Preprocesarea DataFrame-ului keywords\n",
    "\n",
    "# Extracția cuvintelor-cheie care arată așa: [{'id': 1, 'name': 'action'}, {'id': 2, 'name': 'adventure'}]\n",
    "def extract_keywords(keywords):\n",
    "    try:\n",
    "        keywords = ast.literal_eval(keywords)\n",
    "        return [k['name'] for k in keywords]\n",
    "    except:\n",
    "        return []\n",
    "extract_keywords_udf = udf(extract_keywords, ArrayType(StringType()))\n",
    "keywords = keywords.withColumn(\"keywords\", extract_keywords_udf(col(\"keywords\")))\n",
    "\n",
    "# Îmbinarea cu DataFrame-ul movies\n",
    "movies = movies.join(keywords.select(\"id\", \"keywords\"), on=\"id\", how=\"left\")"
   ],
   "id": "4013b0ed3c2c75f",
   "outputs": [],
   "execution_count": 260
  },
  {
   "metadata": {
    "ExecuteTime": {
     "end_time": "2025-06-14T21:21:41.435789Z",
     "start_time": "2025-06-14T21:21:38.497425Z"
    }
   },
   "cell_type": "code",
   "source": [
    "# Verificarea și afișarea primelor 5 rânduri din DataFrame-ul movies\n",
    "movies.show(5, truncate=False)"
   ],
   "id": "866d8022dde74c23",
   "outputs": [
    {
     "name": "stderr",
     "output_type": "stream",
     "text": [
      "                                                                                \r"
     ]
    },
    {
     "name": "stdout",
     "output_type": "stream",
     "text": [
      "+------+---------------------+--------+--------------------------------------------------+----------+------------------------------------------------------------------------------------+---------------------------------+---------+-------+---------------------+------------+----------+------------+---------+-------------+---------------------------------------------------------------------------------------------------------------------------------------------------------------------------------------------------------------------------------------------------------------------------------------------------------------------------------------------------------------------------------------------------------------------+------------------------------------------------------------------------------------------------------------------------------------------------------------------------------------------------------+\n",
      "|id    |belongs_to_collection|budget  |genres                                            |popularity|production_companies                                                                |production_countries             |revenue  |runtime|title                |vote_average|vote_count|release_year|profit   |director     |cast_info                                                                                                                                                                                                                                                                                                                                                                                                            |keywords                                                                                                                                                                                              |\n",
      "+------+---------------------+--------+--------------------------------------------------+----------+------------------------------------------------------------------------------------+---------------------------------+---------+-------+---------------------+------------+----------+------------+---------+-------------+---------------------------------------------------------------------------------------------------------------------------------------------------------------------------------------------------------------------------------------------------------------------------------------------------------------------------------------------------------------------------------------------------------------------+------------------------------------------------------------------------------------------------------------------------------------------------------------------------------------------------------+\n",
      "|119675|0                    |23000000|[Drama, Romance]                                  |7.339451  |[Jerry Weintraub Productions, HBO Films]                                            |[United States of America]       |15600000 |118.0  |Behind the Candelabra|6.6         |307       |2013        |-7400000 |NULL         |NULL                                                                                                                                                                                                                                                                                                                                                                                                                 |[based on novel, celebrity, made for cable tv, based on true story, gay relationship, gay interest, in the closet, las vegas, based on memoir or autobiography, gay man, reference to liberace, 1980s]|\n",
      "|123103|0                    |2000000 |[Horror, Thriller]                                |8.367858  |[Cross Creek Pictures, Dragonfly Entertainment, Vertebra Films, Sobras Producciones]|[Chile, United States of America]|58510    |89.0   |Aftershock           |5.3         |110       |2012        |-1941490 |Nicolás López|[{Gringo, Eli Roth}, {Monica, Andrea Osvárt}, {Ariel, Ariel Levy}, {Kylie, Lorenza Izzo}, {Pollo, Nicolas Martinez}, {Irina, Natasha Yarovenko}, {V.I.P. Girl, Selena Gomez}, {Ramón, Ramón Llao}, {Guide, Ignacia Allamand}, {Firefighter, Marcial Tagle}, {Pregnant Woman, Paz Bascuñan}, {Marito, Matías López}, {Bartender, Dayana Amigo}, {Russell Dazzle, Eduardo Domínguez}, {Grumpy Operator, Edgardo Bruna}]|[rape, earthquake, natural disaster, tsunami]                                                                                                                                                         |\n",
      "|8292  |0                    |45000000|[Action, Crime]                                   |6.84109   |[Paramount Pictures, Di Bonaventura Pictures]                                       |[United States of America]       |92374674 |109.0  |Four Brothers        |6.7         |617       |2005        |47374674 |NULL         |NULL                                                                                                                                                                                                                                                                                                                                                                                                                 |[brother brother relationship, robbery, arbitrary law, adoptive mother, revenge, murder, violence, detroit, duringcreditsstinger, interracial adoption]                                               |\n",
      "|862   |1                    |30000000|[Animation, Comedy, Family]                       |21.946943 |[Pixar Animation Studios]                                                           |[United States of America]       |373554033|81.0   |Toy Story            |7.7         |5415      |1995        |343554033|NULL         |NULL                                                                                                                                                                                                                                                                                                                                                                                                                 |[jealousy, toy, boy, friendship, friends, rivalry, boy next door, new toy, toy comes to life]                                                                                                         |\n",
      "|13006 |0                    |7       |[Thriller, Action, Horror, Science Fiction, Crime]|3.2768    |[Entertainment, Muse Productions, Challenge Film Corporation, XYZ Funding N.V.]     |[United Kingdom]                 |5        |90.0   |Split Second         |5.8         |64        |1992        |-2       |NULL         |NULL                                                                                                                                                                                                                                                                                                                                                                                                                 |[flooding, futuristic, police detective]                                                                                                                                                              |\n",
      "+------+---------------------+--------+--------------------------------------------------+----------+------------------------------------------------------------------------------------+---------------------------------+---------+-------+---------------------+------------+----------+------------+---------+-------------+---------------------------------------------------------------------------------------------------------------------------------------------------------------------------------------------------------------------------------------------------------------------------------------------------------------------------------------------------------------------------------------------------------------------+------------------------------------------------------------------------------------------------------------------------------------------------------------------------------------------------------+\n",
      "only showing top 5 rows\n"
     ]
    }
   ],
   "execution_count": 261
  },
  {
   "metadata": {},
   "cell_type": "markdown",
   "source": [
    "### Grupări și agregări\n",
    "Diversele agregări și grupări au fost realizate atât prin DataFrame API, cât și prin Spark SQL. Acestea includ:\n",
    "1. **Numărul de filme pe an**: Numărul total de filme lansate în fiecare an.\n",
    "2. **Bugetul și venitul mediu pe an**: Calcularea bugetului și veniturilor medii pentru filmele lansate în fiecare an.\n",
    "3. **Profitul mediu pe gen**: Calcularea profitului mediu pentru fiecare gen de film.\n",
    "4. **Regizorii cu profitul mediu cel mai mare**: Identificarea regizorilor care au realizat filme cu profitul mediu cel mai mare.\n",
    "5. **Top 10 filme după profit**: Selectarea celor mai profitabile filme."
   ],
   "id": "8e4aeba37a1ee45b"
  },
  {
   "metadata": {
    "ExecuteTime": {
     "end_time": "2025-06-14T21:21:47.957017Z",
     "start_time": "2025-06-14T21:21:41.487687Z"
    }
   },
   "cell_type": "code",
   "source": [
    "# Agregări și analize folosind DataFrame API\n",
    "\n",
    "# Exemplu: Numărul de filme pe an\n",
    "movies_by_year = movies.groupBy(\"release_year\").agg(F.count(\"id\").alias(\"movie_count\"))\n",
    "\n",
    "# Exemplu: Bugetul și venitul mediu pe an (ca Long)\n",
    "avg_budget_revenue_by_year = movies.groupBy(\"release_year\").agg(\n",
    "    F.avg(\"budget\").alias(\"avg_budget\"),\n",
    "    F.avg(\"revenue\").alias(\"avg_revenue\")\n",
    ").withColumn(\n",
    "    \"avg_budget\", col(\"avg_budget\").cast(LongType())\n",
    ").withColumn(\n",
    "    \"avg_revenue\", col(\"avg_revenue\").cast(LongType())\n",
    ").orderBy(col(\"release_year\").desc())\n",
    "movies_by_year = movies_by_year.join(avg_budget_revenue_by_year, on=\"release_year\", how=\"left\")\n",
    "movies_by_year.show(5, truncate=False)\n",
    "\n",
    "# Exemplu: Profitul mediu pe gen\n",
    "avg_profit_by_genre = movies.select(\n",
    "    F.explode(col(\"genres\")).alias(\"genre\"),\n",
    "    col(\"profit\")\n",
    ").groupBy(\"genre\").agg(\n",
    "    F.avg(\"profit\").alias(\"avg_profit\")\n",
    ").withColumn(\n",
    "    \"avg_profit\", col(\"avg_profit\").cast(LongType())\n",
    ").orderBy(col(\"avg_profit\").desc())\n",
    "avg_profit_by_genre.show(5, truncate=False)\n",
    "\n",
    "# Exemplu: Regizorii cu profitul mediu cel mai mare\n",
    "avg_profit_by_director = movies.groupBy(\"director\").agg(\n",
    "    F.avg(\"profit\").alias(\"avg_profit\")\n",
    ").withColumn(\n",
    "    \"avg_profit\", col(\"avg_profit\").cast(LongType())\n",
    ").orderBy(col(\"avg_profit\").desc())\n",
    "avg_profit_by_director.show(5, truncate=False)\n",
    "\n",
    "# Exemplu: Top 10 filme după profit\n",
    "top_profit_movies = movies.select(\"title\", \"profit\", \"release_year\").orderBy(col(\"profit\").desc()).limit(10)\n",
    "top_profit_movies.show(truncate=False)\n"
   ],
   "id": "49b14c5190334dd3",
   "outputs": [
    {
     "name": "stderr",
     "output_type": "stream",
     "text": [
      "                                                                                \r"
     ]
    },
    {
     "name": "stdout",
     "output_type": "stream",
     "text": [
      "+------------+-----------+----------+-----------+\n",
      "|release_year|movie_count|avg_budget|avg_revenue|\n",
      "+------------+-----------+----------+-----------+\n",
      "|1959        |6          |6063974   |43529166   |\n",
      "|1990        |53         |22115679  |88648401   |\n",
      "|1975        |18         |3555872   |51746518   |\n",
      "|1977        |20         |7660000   |93140772   |\n",
      "|1924        |1          |1135654   |1213880    |\n",
      "+------------+-----------+----------+-----------+\n",
      "only showing top 5 rows\n"
     ]
    },
    {
     "name": "stderr",
     "output_type": "stream",
     "text": [
      "                                                                                \r"
     ]
    },
    {
     "name": "stdout",
     "output_type": "stream",
     "text": [
      "+---------------+----------+\n",
      "|genre          |avg_profit|\n",
      "+---------------+----------+\n",
      "|Animation      |170974483 |\n",
      "|Family         |143940038 |\n",
      "|Fantasy        |141087569 |\n",
      "|Adventure      |140277362 |\n",
      "|Science Fiction|97177327  |\n",
      "+---------------+----------+\n",
      "only showing top 5 rows\n"
     ]
    },
    {
     "name": "stderr",
     "output_type": "stream",
     "text": [
      "                                                                                \r"
     ]
    },
    {
     "name": "stdout",
     "output_type": "stream",
     "text": [
      "+-------------+----------+\n",
      "|director     |avg_profit|\n",
      "+-------------+----------+\n",
      "|David Yates  |1217000000|\n",
      "|Kyle Balda   |1082730962|\n",
      "|Pierre Coffin|894761885 |\n",
      "|Chris Renaud |800457937 |\n",
      "|Michael Bay  |686297228 |\n",
      "+-------------+----------+\n",
      "only showing top 5 rows\n"
     ]
    },
    {
     "name": "stderr",
     "output_type": "stream",
     "text": [
      "                                                                                \r"
     ]
    },
    {
     "name": "stdout",
     "output_type": "stream",
     "text": [
      "+--------------------------------------------+----------+------------+\n",
      "|title                                       |profit    |release_year|\n",
      "+--------------------------------------------+----------+------------+\n",
      "|Avatar                                      |2550965087|2009        |\n",
      "|Star Wars: The Force Awakens                |1823223624|2015        |\n",
      "|Titanic                                     |1645034188|1997        |\n",
      "|Jurassic World                              |1363528810|2015        |\n",
      "|Furious 7                                   |1316249360|2015        |\n",
      "|The Avengers                                |1299557910|2012        |\n",
      "|Harry Potter and the Deathly Hallows: Part 2|1217000000|2011        |\n",
      "|Avengers: Age of Ultron                     |1125403694|2015        |\n",
      "|Frozen                                      |1124219009|2013        |\n",
      "|Beauty and the Beast                        |1102886337|2017        |\n",
      "+--------------------------------------------+----------+------------+\n",
      "\n"
     ]
    }
   ],
   "execution_count": 262
  },
  {
   "metadata": {
    "ExecuteTime": {
     "end_time": "2025-06-14T21:21:54.656119Z",
     "start_time": "2025-06-14T21:21:48.008790Z"
    }
   },
   "cell_type": "code",
   "source": [
    "# Agregări și analize folosind Spark SQL\n",
    "\n",
    "# Înregistrarea DataFrame-ului movies ca o vedere temporară pentru a putea utiliza SQL\n",
    "movies.createOrReplaceTempView(\"movies\")\n",
    "\n",
    "# Exemplu: Numărul de filme pe an\n",
    "movies_by_year = spark.sql(\"\"\"\n",
    "    SELECT release_year, COUNT(id) AS movie_count\n",
    "    FROM movies\n",
    "    GROUP BY release_year\n",
    "\"\"\")\n",
    "\n",
    "# Exemplu: Bugetul și venitul mediu pe an (ca Long)\n",
    "avg_budget_revenue_by_year = spark.sql(\"\"\"\n",
    "    SELECT\n",
    "        release_year,\n",
    "        CAST(AVG(budget) AS BIGINT) AS avg_budget,\n",
    "        CAST(AVG(revenue) AS BIGINT) AS avg_revenue\n",
    "    FROM movies\n",
    "    GROUP BY release_year\n",
    "    ORDER BY release_year DESC\n",
    "\"\"\")\n",
    "\n",
    "# Îmbinarea rezultatelor pentru a avea o vedere completă\n",
    "movies_by_year.createOrReplaceTempView(\"movies_by_year\")\n",
    "avg_budget_revenue_by_year.createOrReplaceTempView(\"avg_budget_revenue_by_year\")\n",
    "final_movies_by_year = spark.sql(\"\"\"\n",
    "    SELECT a.*, b.avg_budget, b.avg_revenue\n",
    "    FROM movies_by_year a\n",
    "    LEFT JOIN avg_budget_revenue_by_year b\n",
    "    ON a.release_year = b.release_year\n",
    "    ORDER BY a.release_year DESC\n",
    "\"\"\")\n",
    "final_movies_by_year.show(5, truncate=False)\n",
    "\n",
    "# Exemplu: Profitul mediu pe gen\n",
    "from pyspark.sql.functions import explode\n",
    "movies_exploded = movies.select(explode(col(\"genres\")).alias(\"genre\"), col(\"profit\"))\n",
    "movies_exploded.createOrReplaceTempView(\"movies_exploded\")\n",
    "avg_profit_by_genre = spark.sql(\"\"\"\n",
    "    SELECT\n",
    "        genre,\n",
    "        CAST(AVG(profit) AS BIGINT) AS avg_profit\n",
    "    FROM movies_exploded\n",
    "    GROUP BY genre\n",
    "    ORDER BY avg_profit DESC\n",
    "\"\"\")\n",
    "avg_profit_by_genre.show(5, truncate=False)\n",
    "\n",
    "# Exemplu: Regizorii cu profitul mediu cel mai mare\n",
    "avg_profit_by_director = spark.sql(\"\"\"\n",
    "    SELECT\n",
    "        director,\n",
    "        CAST(AVG(profit) AS BIGINT) AS avg_profit\n",
    "    FROM movies\n",
    "    GROUP BY director\n",
    "    ORDER BY avg_profit DESC\n",
    "\"\"\")\n",
    "avg_profit_by_director.show(5, truncate=False)\n",
    "\n",
    "# Exemplu: Top 10 filme după profit\n",
    "top_profit_movies = spark.sql(\"\"\"\n",
    "    SELECT title, profit, release_year\n",
    "    FROM movies\n",
    "    ORDER BY profit DESC\n",
    "    LIMIT 10\n",
    "\"\"\")\n",
    "top_profit_movies.show(truncate=False)"
   ],
   "id": "55fe22910b7e2d69",
   "outputs": [
    {
     "name": "stderr",
     "output_type": "stream",
     "text": [
      "                                                                                \r"
     ]
    },
    {
     "name": "stdout",
     "output_type": "stream",
     "text": [
      "+------------+-----------+----------+-----------+\n",
      "|release_year|movie_count|avg_budget|avg_revenue|\n",
      "+------------+-----------+----------+-----------+\n",
      "|2017        |69         |60815007  |207432040  |\n",
      "|2016        |240        |39763207  |121881832  |\n",
      "|2015        |203        |36991712  |132837657  |\n",
      "|2014        |203        |34918705  |114506952  |\n",
      "|2013        |217        |39330317  |108860148  |\n",
      "+------------+-----------+----------+-----------+\n",
      "only showing top 5 rows\n"
     ]
    },
    {
     "name": "stderr",
     "output_type": "stream",
     "text": [
      "                                                                                \r"
     ]
    },
    {
     "name": "stdout",
     "output_type": "stream",
     "text": [
      "+---------------+----------+\n",
      "|genre          |avg_profit|\n",
      "+---------------+----------+\n",
      "|Animation      |170974483 |\n",
      "|Family         |143940038 |\n",
      "|Fantasy        |141087569 |\n",
      "|Adventure      |140277362 |\n",
      "|Science Fiction|97177327  |\n",
      "+---------------+----------+\n",
      "only showing top 5 rows\n"
     ]
    },
    {
     "name": "stderr",
     "output_type": "stream",
     "text": [
      "                                                                                \r"
     ]
    },
    {
     "name": "stdout",
     "output_type": "stream",
     "text": [
      "+-------------+----------+\n",
      "|director     |avg_profit|\n",
      "+-------------+----------+\n",
      "|David Yates  |1217000000|\n",
      "|Kyle Balda   |1082730962|\n",
      "|Pierre Coffin|894761885 |\n",
      "|Chris Renaud |800457937 |\n",
      "|Michael Bay  |686297228 |\n",
      "+-------------+----------+\n",
      "only showing top 5 rows\n"
     ]
    },
    {
     "name": "stderr",
     "output_type": "stream",
     "text": [
      "[Stage 2752:==============================>                        (9 + 7) / 16]\r"
     ]
    },
    {
     "name": "stdout",
     "output_type": "stream",
     "text": [
      "+--------------------------------------------+----------+------------+\n",
      "|title                                       |profit    |release_year|\n",
      "+--------------------------------------------+----------+------------+\n",
      "|Avatar                                      |2550965087|2009        |\n",
      "|Star Wars: The Force Awakens                |1823223624|2015        |\n",
      "|Titanic                                     |1645034188|1997        |\n",
      "|Jurassic World                              |1363528810|2015        |\n",
      "|Furious 7                                   |1316249360|2015        |\n",
      "|The Avengers                                |1299557910|2012        |\n",
      "|Harry Potter and the Deathly Hallows: Part 2|1217000000|2011        |\n",
      "|Avengers: Age of Ultron                     |1125403694|2015        |\n",
      "|Frozen                                      |1124219009|2013        |\n",
      "|Beauty and the Beast                        |1102886337|2017        |\n",
      "+--------------------------------------------+----------+------------+\n",
      "\n"
     ]
    },
    {
     "name": "stderr",
     "output_type": "stream",
     "text": [
      "                                                                                \r"
     ]
    }
   ],
   "execution_count": 263
  },
  {
   "metadata": {},
   "cell_type": "markdown",
   "source": [
    "### Aplicarea metodelor de Machine Learning\n",
    "În această secțiune vom prezice venitul filmelor folosind modele de regresie liniară și Random Forest. Vom folosi caracteristici precum bugetul, anul lansării, regizorul, genul principal, compania de producție și țara de producție. De asemenea, vom aplica tehnici de preprocesare pentru a transforma caracteristicile categorice în formate numerice utilizabile de către modelele de machine learning.\n",
    "\n",
    "În această etapă am utiliat Pipeline-uri pentru a organiza fluxul de lucru de preprocesare și antrenare a modelului și am făcut hyperaparameter tuning folosind Cross-Validation pentru a optimiza modelul Random Forest. (Cerințele 4 și 5)\n",
    "\n",
    "#### Pregătirea datelor pentru modelare\n",
    "Vom pregăti datele pentru modelare prin următorii pași:\n",
    "1. **Filtrarea datelor**: Vom filtra filmele care au genuri, companii de producție și țări de producție disponibile, precum și regizori.\n",
    "2. **Selectarea caracteristicilor relevante**: Vom selecta coloanele relevante pentru modelare, inclusiv bugetul, anul lansării, regizorul, venitul și profitul.\n",
    "3. **Indexarea și codificarea caracteristicilor categorice**: Vom utiliza `StringIndexer` pentru a transforma regizorii, genurile, companiile de producție și țările de producție în indici numerici.\n",
    "4. **One-hot encoding**: Vom aplica `OneHotEncoder` pentru a transforma indici numerici în vectori one-hot.\n",
    "5. **Asamblarea caracteristicilor**: Vom utiliza `VectorAssembler` pentru a combina toate caracteristicile într-un singur vector de caracteristici.\n",
    "6. **Împărțirea datelor în seturi de antrenament și testare**: Vom împărți datele în seturi de antrenament și testare pentru a evalua performanța modelului.\n",
    "7. **Definirea evaluatorului pentru regresie**: Vom utiliza `RegressionEvaluator` pentru a evalua performanța modelului pe baza RMSE (Root Mean Square Error)."
   ],
   "id": "2028328c68691d35"
  },
  {
   "metadata": {
    "ExecuteTime": {
     "end_time": "2025-06-14T21:21:54.747730Z",
     "start_time": "2025-06-14T21:21:54.708331Z"
    }
   },
   "cell_type": "code",
   "source": [
    "# Pregătirea datelor pentru modelare\n",
    "\n",
    "data = movies.filter(\n",
    "    (size(col(\"genres\")) > 0) &\n",
    "    (size(col(\"production_companies\")) > 0) &\n",
    "    (size(col(\"production_countries\")) > 0) &\n",
    "    col(\"director\").isNotNull()\n",
    ")\n",
    "\n",
    "data = data.select(\n",
    "    \"budget\", \"release_year\", \"director\", \"revenue\", \"profit\",\n",
    "    col(\"genres\").getItem(0).alias(\"main_genre\"),\n",
    "    col(\"production_companies\").getItem(0).alias(\"production_company\"),\n",
    "    col(\"production_countries\").getItem(0).alias(\"production_country\")\n",
    ").dropna()\n",
    "\n",
    "# Indexarea și codificarea caracteristicilor categorice\n",
    "director_indexer = StringIndexer(inputCol=\"director\", outputCol=\"director_index\", handleInvalid=\"skip\")\n",
    "genre_indexer = StringIndexer(inputCol=\"main_genre\", outputCol=\"genre_index\", handleInvalid=\"skip\")\n",
    "company_indexer = StringIndexer(inputCol=\"production_company\", outputCol=\"company_index\", handleInvalid=\"skip\")\n",
    "country_indexer = StringIndexer(inputCol=\"production_country\", outputCol=\"country_index\", handleInvalid=\"skip\")\n",
    "\n",
    "# One-hot encoding pentru caracteristicile categorice\n",
    "director_encoder = OneHotEncoder(inputCol=\"director_index\", outputCol=\"director_vec\")\n",
    "genre_encoder = OneHotEncoder(inputCol=\"genre_index\", outputCol=\"genre_vec\")\n",
    "company_encoder = OneHotEncoder(inputCol=\"company_index\", outputCol=\"company_vec\")\n",
    "country_encoder = OneHotEncoder(inputCol=\"country_index\", outputCol=\"country_vec\")\n",
    "\n",
    "# Asamblarea caracteristicilor într-un singur vector\n",
    "assembler = VectorAssembler(\n",
    "    inputCols=[\n",
    "        \"budget\", \"release_year\",\n",
    "        \"director_vec\", \"genre_vec\", \"company_vec\", \"country_vec\"\n",
    "    ],\n",
    "    outputCol=\"features\"\n",
    ")\n",
    "\n",
    "# Împărțirea datelor în seturi de antrenament și testare\n",
    "train_data, test_data = data.randomSplit([0.8, 0.2], seed=42)\n",
    "\n",
    "# Definirea evaluatorului pentru regresie\n",
    "evaluator = RegressionEvaluator(labelCol=\"revenue\", predictionCol=\"revenue_pred\", metricName=\"rmse\")"
   ],
   "id": "a2ed2edd318113fc",
   "outputs": [],
   "execution_count": 264
  },
  {
   "metadata": {
    "ExecuteTime": {
     "end_time": "2025-06-14T21:22:06.239107Z",
     "start_time": "2025-06-14T21:21:54.800445Z"
    }
   },
   "cell_type": "code",
   "source": [
    "# Folosirea unui model de regresie liniară pentru a prezice venitul filmelor\n",
    "lr_revenue = LinearRegression(featuresCol=\"features\", labelCol=\"revenue\", predictionCol=\"revenue_pred\")\n",
    "pipeline_revenue = Pipeline(stages=[\n",
    "    director_indexer, genre_indexer, company_indexer, country_indexer,\n",
    "    director_encoder, genre_encoder, company_encoder, country_encoder,\n",
    "    assembler, lr_revenue\n",
    "])\n",
    "model_revenue = pipeline_revenue.fit(train_data)\n",
    "predictions_revenue = model_revenue.transform(test_data)\n",
    "rmse_revenue = evaluator.evaluate(predictions_revenue)\n",
    "print(f\"Linear Regression Test RMSE: {rmse_revenue}\")"
   ],
   "id": "852645af36ebc15",
   "outputs": [
    {
     "name": "stderr",
     "output_type": "stream",
     "text": [
      "25/06/15 00:22:01 WARN Instrumentation: [99eed7dd] regParam is zero, which might cause numerical instability and overfitting.\n",
      "25/06/15 00:22:03 WARN Instrumentation: [99eed7dd] Cholesky solver failed due to singular covariance matrix. Retrying with Quasi-Newton solver.\n",
      "[Stage 2802:========================================>             (12 + 4) / 16]\r"
     ]
    },
    {
     "name": "stdout",
     "output_type": "stream",
     "text": [
      "Linear Regression Test RMSE: 131742129.93671373\n"
     ]
    },
    {
     "name": "stderr",
     "output_type": "stream",
     "text": [
      "                                                                                \r"
     ]
    }
   ],
   "execution_count": 265
  },
  {
   "metadata": {
    "ExecuteTime": {
     "end_time": "2025-06-14T21:22:19.748714Z",
     "start_time": "2025-06-14T21:22:06.290067Z"
    }
   },
   "cell_type": "code",
   "source": [
    "# Folosirea unui model de regresie Random Forest pentru a prezice venitul filmelor\n",
    "rf_revenue = RandomForestRegressor(featuresCol=\"features\", labelCol=\"revenue\", predictionCol=\"revenue_pred\")\n",
    "pipeline_rf = Pipeline(stages=[\n",
    "    director_indexer, genre_indexer, company_indexer, country_indexer,\n",
    "    director_encoder, genre_encoder, company_encoder, country_encoder,\n",
    "    assembler, rf_revenue\n",
    "])\n",
    "model_rf = pipeline_rf.fit(train_data)\n",
    "predictions_rf = model_rf.transform(test_data)\n",
    "rmse_rf = evaluator.evaluate(predictions_rf)\n",
    "print(f\"Random Forest Test RMSE: {rmse_rf}\")"
   ],
   "id": "6e557b710a96db66",
   "outputs": [
    {
     "name": "stderr",
     "output_type": "stream",
     "text": [
      "[Stage 2854:======>                                               (2 + 14) / 16]\r"
     ]
    },
    {
     "name": "stdout",
     "output_type": "stream",
     "text": [
      "Random Forest Test RMSE: 80849427.42287876\n"
     ]
    },
    {
     "name": "stderr",
     "output_type": "stream",
     "text": [
      "                                                                                \r"
     ]
    }
   ],
   "execution_count": 266
  },
  {
   "metadata": {
    "ExecuteTime": {
     "end_time": "2025-06-14T21:22:30.663129Z",
     "start_time": "2025-06-14T21:22:19.802996Z"
    }
   },
   "cell_type": "code",
   "source": [
    "# Încercarea cu un model simplu (fără caracteristici categorice)\n",
    "simple_data = data.select(\"budget\", \"release_year\", \"revenue\").dropna()\n",
    "\n",
    "# Asamblarea caracteristicilor pentru modelul simplu\n",
    "assembler = VectorAssembler(inputCols=[\"budget\", \"release_year\"], outputCol=\"features\")\n",
    "simple_data = assembler.transform(simple_data)\n",
    "\n",
    "# Împărțirea datelor în seturi de antrenament și testare\n",
    "train_data, test_data = simple_data.randomSplit([0.8, 0.2], seed=42)\n",
    "\n",
    "# Definirea evaluatorului pentru regresie\n",
    "evaluator = RegressionEvaluator(labelCol=\"revenue\", predictionCol=\"prediction\", metricName=\"rmse\")\n",
    "\n",
    "# Regresie liniară\n",
    "lr = LinearRegression(featuresCol=\"features\", labelCol=\"revenue\")\n",
    "lr_model = lr.fit(train_data)\n",
    "lr_predictions = lr_model.transform(test_data)\n",
    "lr_rmse = evaluator.evaluate(lr_predictions)\n",
    "print(f\"Linear Regression Test RMSE with simple model: {lr_rmse}\")\n",
    "\n",
    "# Regresie Random Forest\n",
    "rf = RandomForestRegressor(featuresCol=\"features\", labelCol=\"revenue\")\n",
    "rf_model = rf.fit(train_data)\n",
    "rf_predictions = rf_model.transform(test_data)\n",
    "rf_rmse = evaluator.evaluate(rf_predictions)\n",
    "print(f\"Random Forest Test RMSE with simple model: {rf_rmse}\")"
   ],
   "id": "4a1f303141f59665",
   "outputs": [
    {
     "name": "stderr",
     "output_type": "stream",
     "text": [
      "25/06/15 00:22:20 WARN Instrumentation: [1d7f3fa3] regParam is zero, which might cause numerical instability and overfitting.\n",
      "                                                                                \r"
     ]
    },
    {
     "name": "stdout",
     "output_type": "stream",
     "text": [
      "Linear Regression Test RMSE with simple model: 74371055.41896947\n"
     ]
    },
    {
     "name": "stderr",
     "output_type": "stream",
     "text": [
      "[Stage 2888:==========>                                           (3 + 13) / 16]\r"
     ]
    },
    {
     "name": "stdout",
     "output_type": "stream",
     "text": [
      "Random Forest Test RMSE with simple model: 79111818.17373627\n"
     ]
    },
    {
     "name": "stderr",
     "output_type": "stream",
     "text": [
      "                                                                                \r"
     ]
    }
   ],
   "execution_count": 267
  },
  {
   "metadata": {},
   "cell_type": "markdown",
   "source": [
    "#### Optimizarea modelului Random Forest cu Cross-Validation\n",
    "Pentru a îmbunătăți performanța modelului Random Forest, vom utiliza tehnica de Cross-Validation. Aceasta ne va permite să găsim cei mai buni parametri pentru model, cum ar fi numărul de arbori și adâncimea maximă a acestora. Vom defini o grilă de parametri și vom evalua modelul folosind RMSE ca metrică de performanță."
   ],
   "id": "9440ab5e01b345d9"
  },
  {
   "metadata": {
    "ExecuteTime": {
     "end_time": "2025-06-14T21:22:55.544549Z",
     "start_time": "2025-06-14T21:22:30.711997Z"
    }
   },
   "cell_type": "code",
   "source": [
    "# Optimizarea modelului Random Forest cu Cross-Validation\n",
    "\n",
    "# Definirea valorilor pentru parametrii modelului\n",
    "paramGrid = (ParamGridBuilder()\n",
    "    .addGrid(rf.numTrees, [20, 50])\n",
    "    .addGrid(rf.maxDepth, [5, 10])\n",
    "    .build())\n",
    "\n",
    "# Configurarea evaluatorului pentru regresie\n",
    "crossval = CrossValidator(\n",
    "    estimator=rf,\n",
    "    estimatorParamMaps=paramGrid,\n",
    "    evaluator=evaluator,\n",
    "    numFolds=3\n",
    ")\n",
    "\n",
    "# Antrenarea modelului cu Cross-Validation\n",
    "cvModel = crossval.fit(train_data)\n",
    "bestModel = cvModel.bestModel\n",
    "\n",
    "# Evaluarea modelului optimizat pe setul de testare\n",
    "predictions = bestModel.transform(test_data)\n",
    "rmse = evaluator.evaluate(predictions)\n",
    "print(f\"Best Random Forest Test RMSE: {rmse}\")"
   ],
   "id": "4c449e62e7bb21ca",
   "outputs": [
    {
     "name": "stderr",
     "output_type": "stream",
     "text": [
      "25/06/15 00:22:36 WARN DAGScheduler: Broadcasting large task binary with size 1051.2 KiB\n",
      "25/06/15 00:22:36 WARN DAGScheduler: Broadcasting large task binary with size 1343.4 KiB\n",
      "25/06/15 00:22:42 WARN DAGScheduler: Broadcasting large task binary with size 1174.9 KiB\n",
      "25/06/15 00:22:43 WARN DAGScheduler: Broadcasting large task binary with size 1490.2 KiB\n",
      "25/06/15 00:22:49 WARN DAGScheduler: Broadcasting large task binary with size 1102.9 KiB\n",
      "25/06/15 00:22:49 WARN DAGScheduler: Broadcasting large task binary with size 1387.0 KiB\n",
      "[Stage 3178:====================>                                 (6 + 10) / 16]\r"
     ]
    },
    {
     "name": "stdout",
     "output_type": "stream",
     "text": [
      "Best Random Forest Test RMSE: 79111818.17373627\n"
     ]
    },
    {
     "name": "stderr",
     "output_type": "stream",
     "text": [
      "                                                                                \r"
     ]
    }
   ],
   "execution_count": 268
  },
  {
   "metadata": {},
   "cell_type": "markdown",
   "source": [
    "#### Analiză și interpretare a rezultatelor\n",
    "RMSE (Root Mean Square Error) este o măsură a erorii de predicție a modelului. Cu cât RMSE este mai mic, cu atât modelul prezice mai bine venitul filmelor. În cazul nostru, am obținut următoarele rezultate:\n",
    "- **Modelul de regresie liniară cu caractersitici**: RMSE ~ 131 milioane USD\n",
    "- **Modelul Random Forest cu toate datele**: RMSE ~ 80 milioane USD\n",
    "- **Modelul de regresie liniară fără caracteristici**: RMSE ~ 74 milioane USD\n",
    "- **Modelul Random Forest fără caracteristici**: RMSE ~ 79 milioane USD\n",
    "- **Modelul Random Forest optimizat cu Cross-Validation și fără caracteristici**: RMSE ~ 79 milioane USD\n",
    "\n",
    "Concluziile pe care le putem trasa din aceste rezultate sunt:\n",
    "1. Încorporarea caracteristicilor categorice (regizori, genuri, companii de producție și țări de producție) a determinat o scădere a performanței, ceea ce sugerează că acestea nu pot fi folosite eficient sub forma de indici numerici și vectori one-hot.\n",
    "2. Modelul Random Forest a avut o performanță semnificativ mai bună decât cel de regresie în cazul în care am folosit toate caracteristicile, ceea ce sugerează că Random Forest este întradevăr mai potrivit pebtru corelații complexe între caracteristici.\n",
    "3. Optimizarea modelului Random Forest cu Cross-Validation nu a adus o îmbunătățire semnificativă a performanței, ceea ce sugerează ca parametrii aleși nu au avut un impact semnificativ asupra modelului în acest caz.\n",
    "4. Pentru rezultate mai clare și mai precise, ar fi util să explorăm alte tehnici de preprocesare a caracteristicilor categorice, cum ar fi utilizarea de embedding-uri sau tehnici de reducere a dimensionalității."
   ],
   "id": "193edaa5c84fb354"
  }
 ],
 "metadata": {
  "jupytext": {
   "cell_metadata_filter": "-all",
   "main_language": "python",
   "notebook_metadata_filter": "-all"
  }
 },
 "nbformat": 4,
 "nbformat_minor": 5
}
